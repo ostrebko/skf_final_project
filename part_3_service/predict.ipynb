{
  "cells": [
    {
      "cell_type": "code",
      "source": [
        "# Используется временно для отладки\n",
        "from google.colab import drive\n",
        "drive.mount('/content/drive')"
      ],
      "metadata": {
        "id": "UWPwkAuTZ4EO",
        "colab": {
          "base_uri": "https://localhost:8080/"
        },
        "outputId": "c1b2ff00-93b2-44e9-b29e-fa3d88669753"
      },
      "id": "UWPwkAuTZ4EO",
      "execution_count": null,
      "outputs": [
        {
          "output_type": "stream",
          "name": "stdout",
          "text": [
            "Mounted at /content/drive\n"
          ]
        }
      ]
    },
    {
      "cell_type": "code",
      "execution_count": null,
      "id": "4c3670e1",
      "metadata": {
        "_cell_guid": "b1076dfc-b9ad-4769-8c92-a6c4dae69d19",
        "_uuid": "8f2839f25d086af736a60e9eeb907d3b93b6e0e5",
        "execution": {
          "iopub.execute_input": "2022-04-19T08:45:25.377629Z",
          "iopub.status.busy": "2022-04-19T08:45:25.376923Z",
          "iopub.status.idle": "2022-04-19T08:45:27.222098Z",
          "shell.execute_reply": "2022-04-19T08:45:27.221173Z"
        },
        "papermill": {
          "duration": 1.862031,
          "end_time": "2022-04-19T08:45:27.224728",
          "exception": false,
          "start_time": "2022-04-19T08:45:25.362697",
          "status": "completed"
        },
        "tags": [],
        "id": "4c3670e1"
      },
      "outputs": [],
      "source": [
        "import numpy as np\n",
        "import os\n",
        "import cv2\n",
        "import glob\n",
        "import tqdm\n",
        "import matplotlib.pyplot as plt\n",
        "import matplotlib.patches as patches\n",
        "from PIL import Image\n",
        "\n",
        "import torch\n",
        "import torchvision\n",
        "from torchvision.ops.boxes import nms"
      ]
    },
    {
      "cell_type": "code",
      "execution_count": null,
      "id": "35af62d4",
      "metadata": {
        "execution": {
          "iopub.execute_input": "2022-04-19T08:45:50.405997Z",
          "iopub.status.busy": "2022-04-19T08:45:50.405446Z",
          "iopub.status.idle": "2022-04-19T08:45:50.417341Z",
          "shell.execute_reply": "2022-04-19T08:45:50.416675Z"
        },
        "papermill": {
          "duration": 0.026799,
          "end_time": "2022-04-19T08:45:50.419122",
          "exception": false,
          "start_time": "2022-04-19T08:45:50.392323",
          "status": "completed"
        },
        "tags": [],
        "id": "35af62d4",
        "colab": {
          "base_uri": "https://localhost:8080/",
          "height": 142
        },
        "outputId": "8cd5acc6-7949-489a-b84a-d5ec84f1b742"
      },
      "outputs": [
        {
          "output_type": "stream",
          "name": "stdout",
          "text": [
            "filename: 451.jpg  | Предсказанное число бластоспор: 100\n",
            "filename: 452.jpg  | Предсказанное число бластоспор: 100\n",
            "filename: 453.jpg  | Предсказанное число бластоспор: 100\n",
            "filename: 343.jpg  | Предсказанное число бластоспор: 78\n",
            "filename: 345.jpg  | Предсказанное число бластоспор: 90\n",
            "filename: 344.jpg  | Предсказанное число бластоспор: 89\n"
          ]
        },
        {
          "output_type": "execute_result",
          "data": {
            "text/plain": [
              "'Среднее число бластоспор: 92.83333333333333'"
            ],
            "application/vnd.google.colaboratory.intrinsic+json": {
              "type": "string"
            }
          },
          "metadata": {},
          "execution_count": 6
        }
      ],
      "source": [
        "# Вариант 1\n",
        "def predict_avg(path_to_files):\n",
        "    \"\"\"\n",
        "    Для предсказания среднего числа бластоспор в папке path_to_files нужно создать две папки:\n",
        "    images - для фотографий в формате jpg и model - для модели библиотеки pytorch\n",
        "\n",
        "    \"\"\"\n",
        "    def predict_boxes(path_to_image, \n",
        "                      model,\n",
        "                      iou_threshold=0.1, \n",
        "                      threshold=0.5):\n",
        "        device = torch.device('cuda' if torch.cuda.is_available() else 'cpu')\n",
        "        model.eval()\n",
        "        img = cv2.imread(path_to_image)\n",
        "        img_ = img / 255.\n",
        "        img_ = torch.from_numpy(img_).permute(2, 0, 1).unsqueeze(0).to(torch.float).to(device)\n",
        "        predict = model(img_)\n",
        "        ind = nms(predict[0]['boxes'], predict[0]['scores'], iou_threshold).detach().cpu().numpy()\n",
        "    \n",
        "        boxes_aft_threshold = []\n",
        "\n",
        "        for i, box in enumerate(predict[0]['boxes'][ind]):\n",
        "            if predict[0]['scores'][i] > threshold:\n",
        "                boxes_aft_threshold.append(predict[0]['boxes'][i].cpu().detach().numpy())\n",
        "        \n",
        "        return boxes_aft_threshold\n",
        "\n",
        "\n",
        "    def draw_boxes(path_to_image, \n",
        "                   boxes):\n",
        "        plt.rcParams[\"figure.figsize\"] = (12,8)\n",
        "        with Image.open(path_to_image) as image:\n",
        "            plt.imshow(image)\n",
        "\n",
        "        for item in boxes:\n",
        "            width_img = int(item[2] - item[0])\n",
        "            height_img = int(item[3] - item[1])\n",
        "            ax = plt.gca()\n",
        "            rect = patches.Rectangle((item[0],item[1]), \n",
        "                                     width_img, \n",
        "                                     height_img, \n",
        "                                     linewidth=1, \n",
        "                                     edgecolor='red', \n",
        "                                     fill = False)\n",
        "            ax.add_patch(rect)\n",
        "        plt.figure(figsize=(12,10))\n",
        "        plt.show()\n",
        "\n",
        "\n",
        "    def calc_numb_blastospores(path_to_image, model, draw=True):\n",
        "        boxes = predict_boxes(path_to_image, model)\n",
        "        numb_blastospores = len(boxes)\n",
        "        print(f\"filename: {path_to_image.split('/')[-1]}\", ' | ' \n",
        "              f'Предсказанное число бластоспор: {numb_blastospores}')\n",
        "        if draw:\n",
        "            draw_boxes(path_to_image, boxes)\n",
        "        \n",
        "        return numb_blastospores \n",
        "\n",
        "\n",
        "    def data_prediction(path_to_images, model):\n",
        "        avg_numb = []\n",
        "        images_paths = glob.glob(os.path.join(path_to_images, '*.jpg'))\n",
        "        for imh_path in images_paths:\n",
        "            avg_numb.append(calc_numb_blastospores(imh_path, model, draw=False))\n",
        "        return np.mean(avg_numb)\n",
        "    \n",
        "    model = torch.load(os.path.join(path_to_files, 'model', 'full_frcnn_resnet50_fpn.pth'))\n",
        "    result = data_prediction(path_to_images=os.path.join(path_to_files, 'images'),\n",
        "                             model=model)\n",
        "\n",
        "    return f'Среднее число бластоспор: {result}'\n",
        "\n",
        "predict_avg('/content/drive/MyDrive/Misha/All_data_YOLO/test_predict')"
      ]
    },
    {
      "cell_type": "code",
      "source": [
        "# Вариант 2\n",
        "def predict(path_to_image, model):\n",
        "    \"\"\"\n",
        "    Для предсказания среднего числа бластоспор в папке path_to_files нужно создать две папки:\n",
        "    images - для фотографий в формате jpg и model - для модели библиотеки pytorch\n",
        "\n",
        "    \"\"\"\n",
        "    def predict_boxes(path_to_image, \n",
        "                      model,\n",
        "                      iou_threshold=0.1, \n",
        "                      threshold=0.5):\n",
        "        device = torch.device('cuda' if torch.cuda.is_available() else 'cpu')\n",
        "        model.eval()\n",
        "        img = cv2.imread(path_to_image)\n",
        "        img_ = img / 255.\n",
        "        img_ = torch.from_numpy(img_).permute(2, 0, 1).unsqueeze(0).to(torch.float).to(device)\n",
        "        predict = model(img_)\n",
        "        ind = nms(predict[0]['boxes'], predict[0]['scores'], iou_threshold).detach().cpu().numpy()\n",
        "    \n",
        "        boxes_aft_threshold = []\n",
        "    \n",
        "        for i, box in enumerate(predict[0]['boxes'][ind]):\n",
        "            if predict[0]['scores'][i] > threshold:\n",
        "                boxes_aft_threshold.append(predict[0]['boxes'][i].cpu().detach().numpy())\n",
        "    \n",
        "        return boxes_aft_threshold\n",
        "    \n",
        "    def draw_boxes(path_to_image, \n",
        "                   boxes):\n",
        "        plt.rcParams[\"figure.figsize\"] = (12,8)\n",
        "        with Image.open(path_to_image) as image:\n",
        "            plt.imshow(image)\n",
        "\n",
        "        for item in boxes:\n",
        "            width_img = int(item[2] - item[0])\n",
        "            height_img = int(item[3] - item[1])\n",
        "            ax = plt.gca()\n",
        "            rect = patches.Rectangle((item[0],item[1]), \n",
        "                                     width_img, \n",
        "                                     height_img, \n",
        "                                     linewidth=1, \n",
        "                                     edgecolor='red', \n",
        "                                     fill = False)\n",
        "\n",
        "            ax.add_patch(rect)\n",
        "\n",
        "        plt.figure(figsize=(12,10))\n",
        "        plt.show()\n",
        "\n",
        "    def calc_numb_blastospores(path_to_image, model, draw=True):\n",
        "        boxes = predict_boxes(path_to_image, model)\n",
        "        numb_blastospores = len(boxes)\n",
        "        print(f\"filename: {path_to_image.split('/')[-1]}\", ' | ' \n",
        "              f'Предсказанное число бластоспор: {numb_blastospores}')\n",
        "        if draw:\n",
        "            draw_boxes(path_to_image, boxes) \n",
        "        return numb_blastospores \n",
        "    \n",
        "    result = calc_numb_blastospores(path_to_image, model=model, draw=False)\n",
        "    return result"
      ],
      "metadata": {
        "id": "qFnbNfIrpG2g"
      },
      "id": "qFnbNfIrpG2g",
      "execution_count": null,
      "outputs": []
    },
    {
      "cell_type": "code",
      "source": [
        "def calc_avg(path_to_files):\n",
        "    avg_numb = []\n",
        "    model = torch.load(os.path.join(path_to_files, 'model', 'full_frcnn_resnet50_fpn.pth'))\n",
        "    path_to_images = os.path.join(path_to_files, 'images')\n",
        "    images_paths = glob.glob(os.path.join(path_to_images, '*.jpg'))\n",
        "    for imh_path in images_paths:\n",
        "        avg_numb.append(predict(imh_path, model))\n",
        "    return f'Среднее число бластоспор: {np.mean(avg_numb)}'\n",
        "\n",
        "calc_avg('/content/drive/MyDrive/Misha/All_data_YOLO/test_predict')"
      ],
      "metadata": {
        "colab": {
          "base_uri": "https://localhost:8080/",
          "height": 142
        },
        "id": "4MjTu7pdqH_v",
        "outputId": "9e868965-5e8f-4d4f-c21a-84e648e3ce15"
      },
      "id": "4MjTu7pdqH_v",
      "execution_count": null,
      "outputs": [
        {
          "output_type": "stream",
          "name": "stdout",
          "text": [
            "filename: 451.jpg  | Предсказанное число бластоспор: 100\n",
            "filename: 452.jpg  | Предсказанное число бластоспор: 100\n",
            "filename: 453.jpg  | Предсказанное число бластоспор: 100\n",
            "filename: 343.jpg  | Предсказанное число бластоспор: 78\n",
            "filename: 345.jpg  | Предсказанное число бластоспор: 90\n",
            "filename: 344.jpg  | Предсказанное число бластоспор: 89\n"
          ]
        },
        {
          "output_type": "execute_result",
          "data": {
            "text/plain": [
              "'Среднее число бластоспор: 92.83333333333333'"
            ],
            "application/vnd.google.colaboratory.intrinsic+json": {
              "type": "string"
            }
          },
          "metadata": {},
          "execution_count": 8
        }
      ]
    },
    {
      "cell_type": "code",
      "source": [
        ""
      ],
      "metadata": {
        "id": "lvnmLvJqrPP6"
      },
      "id": "lvnmLvJqrPP6",
      "execution_count": null,
      "outputs": []
    }
  ],
  "metadata": {
    "kernelspec": {
      "display_name": "Python 3",
      "language": "python",
      "name": "python3"
    },
    "language_info": {
      "codemirror_mode": {
        "name": "ipython",
        "version": 3
      },
      "file_extension": ".py",
      "mimetype": "text/x-python",
      "name": "python",
      "nbconvert_exporter": "python",
      "pygments_lexer": "ipython3",
      "version": "3.7.12"
    },
    "papermill": {
      "default_parameters": {},
      "duration": 53.702953,
      "end_time": "2022-04-19T08:46:07.856099",
      "environment_variables": {},
      "exception": null,
      "input_path": "__notebook__.ipynb",
      "output_path": "__notebook__.ipynb",
      "parameters": {},
      "start_time": "2022-04-19T08:45:14.153146",
      "version": "2.3.4"
    },
    "colab": {
      "name": "predict.ipynb",
      "provenance": [],
      "collapsed_sections": []
    }
  },
  "nbformat": 4,
  "nbformat_minor": 5
}